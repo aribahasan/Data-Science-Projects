{
 "cells": [
  {
   "cell_type": "markdown",
   "id": "b685a142-faee-4a67-bc2d-eca54db54a21",
   "metadata": {},
   "source": [
    "# Campaign Performance - Calculate Lift and Significance "
   ]
  },
  {
   "cell_type": "code",
   "execution_count": 1,
   "id": "7fb91b32-6580-450b-9a2d-11ce320b6b4d",
   "metadata": {},
   "outputs": [],
   "source": [
    "import pandas as pd\n",
    "from scipy import stats"
   ]
  },
  {
   "cell_type": "code",
   "execution_count": 2,
   "id": "e64ed2bf-ee0d-4144-833f-e60a7f399390",
   "metadata": {},
   "outputs": [],
   "source": [
    "# Simulated data\n",
    "data = pd.DataFrame({\n",
    "    'user_id': range(1, 101),\n",
    "    'received_email': [True]*50 + [False]*50,\n",
    "    'revenue': [120, 80, 0, 50, 100]*10 + [80, 60, 0, 40, 90]*10\n",
    "})"
   ]
  },
  {
   "cell_type": "code",
   "execution_count": 3,
   "id": "1d0bb102-e254-485a-8e8b-ef838fe75c9c",
   "metadata": {},
   "outputs": [
    {
     "data": {
      "text/html": [
       "<div>\n",
       "<style scoped>\n",
       "    .dataframe tbody tr th:only-of-type {\n",
       "        vertical-align: middle;\n",
       "    }\n",
       "\n",
       "    .dataframe tbody tr th {\n",
       "        vertical-align: top;\n",
       "    }\n",
       "\n",
       "    .dataframe thead th {\n",
       "        text-align: right;\n",
       "    }\n",
       "</style>\n",
       "<table border=\"1\" class=\"dataframe\">\n",
       "  <thead>\n",
       "    <tr style=\"text-align: right;\">\n",
       "      <th></th>\n",
       "      <th>user_id</th>\n",
       "      <th>received_email</th>\n",
       "      <th>revenue</th>\n",
       "    </tr>\n",
       "  </thead>\n",
       "  <tbody>\n",
       "    <tr>\n",
       "      <th>0</th>\n",
       "      <td>1</td>\n",
       "      <td>True</td>\n",
       "      <td>120</td>\n",
       "    </tr>\n",
       "    <tr>\n",
       "      <th>1</th>\n",
       "      <td>2</td>\n",
       "      <td>True</td>\n",
       "      <td>80</td>\n",
       "    </tr>\n",
       "    <tr>\n",
       "      <th>2</th>\n",
       "      <td>3</td>\n",
       "      <td>True</td>\n",
       "      <td>0</td>\n",
       "    </tr>\n",
       "    <tr>\n",
       "      <th>3</th>\n",
       "      <td>4</td>\n",
       "      <td>True</td>\n",
       "      <td>50</td>\n",
       "    </tr>\n",
       "    <tr>\n",
       "      <th>4</th>\n",
       "      <td>5</td>\n",
       "      <td>True</td>\n",
       "      <td>100</td>\n",
       "    </tr>\n",
       "  </tbody>\n",
       "</table>\n",
       "</div>"
      ],
      "text/plain": [
       "   user_id  received_email  revenue\n",
       "0        1            True      120\n",
       "1        2            True       80\n",
       "2        3            True        0\n",
       "3        4            True       50\n",
       "4        5            True      100"
      ]
     },
     "execution_count": 3,
     "metadata": {},
     "output_type": "execute_result"
    }
   ],
   "source": [
    "data.head()"
   ]
  },
  {
   "cell_type": "code",
   "execution_count": 4,
   "id": "3e6e4092-86f5-4793-9669-bce1dc1e9a7f",
   "metadata": {},
   "outputs": [],
   "source": [
    "# Split groups\n",
    "test = data[data['received_email'] == True]['revenue']\n",
    "control = data[data['received_email'] == False]['revenue']"
   ]
  },
  {
   "cell_type": "code",
   "execution_count": 5,
   "id": "8f19fdb0-2f41-451b-88a5-b2b4d8c57f49",
   "metadata": {},
   "outputs": [
    {
     "data": {
      "text/plain": [
       "0    120\n",
       "1     80\n",
       "2      0\n",
       "3     50\n",
       "4    100\n",
       "Name: revenue, dtype: int64"
      ]
     },
     "execution_count": 5,
     "metadata": {},
     "output_type": "execute_result"
    }
   ],
   "source": [
    "test.head()"
   ]
  },
  {
   "cell_type": "code",
   "execution_count": 11,
   "id": "c05d9a8b-db87-4c9a-a4fd-b13e2c5f3fe2",
   "metadata": {},
   "outputs": [
    {
     "data": {
      "text/plain": [
       "50    80\n",
       "51    60\n",
       "52     0\n",
       "53    40\n",
       "54    90\n",
       "Name: revenue, dtype: int64"
      ]
     },
     "execution_count": 11,
     "metadata": {},
     "output_type": "execute_result"
    }
   ],
   "source": [
    "control.head()"
   ]
  },
  {
   "cell_type": "code",
   "execution_count": 13,
   "id": "783d8dbe-d25a-422e-a563-6a6076a6062f",
   "metadata": {},
   "outputs": [
    {
     "name": "stdout",
     "output_type": "stream",
     "text": [
      "Incremental Lift: $16.00 per user\n"
     ]
    }
   ],
   "source": [
    "# Calculate lift\n",
    "lift = test.mean() - control.mean()\n",
    "print(f\"Incremental Lift: ${lift:.2f} per user\")"
   ]
  },
  {
   "cell_type": "code",
   "execution_count": 18,
   "id": "edae7ffe-4bd1-48d3-bee0-fe5bd3e0de77",
   "metadata": {},
   "outputs": [
    {
     "name": "stdout",
     "output_type": "stream",
     "text": [
      "T-test p-value: 0.0365\n"
     ]
    }
   ],
   "source": [
    "# Statistical significance\n",
    "t_stat, p_val = stats.ttest_ind(test, control, equal_var=False)\n",
    "print(f\"T-test p-value: {p_val:.4f}\")"
   ]
  },
  {
   "cell_type": "markdown",
   "id": "f64fb367-0d2c-4ef8-8adf-b8bb94d9dbfe",
   "metadata": {},
   "source": [
    "### Interpretation:\n",
    "Lift shows the average revenue difference per user.\n",
    "\n",
    "The campaign drove an incremental revenue of $16 per user, highlighting its measurable impact beyond baseline performance.\n",
    "\n",
    "p-value is < 0.05 which means the lift is statistically significant"
   ]
  }
 ],
 "metadata": {
  "kernelspec": {
   "display_name": "Python 3 (ipykernel)",
   "language": "python",
   "name": "python3"
  },
  "language_info": {
   "codemirror_mode": {
    "name": "ipython",
    "version": 3
   },
   "file_extension": ".py",
   "mimetype": "text/x-python",
   "name": "python",
   "nbconvert_exporter": "python",
   "pygments_lexer": "ipython3",
   "version": "3.12.7"
  }
 },
 "nbformat": 4,
 "nbformat_minor": 5
}
